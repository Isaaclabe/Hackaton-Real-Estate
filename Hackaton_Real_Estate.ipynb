{
  "nbformat": 4,
  "nbformat_minor": 0,
  "metadata": {
    "colab": {
      "provenance": [],
      "gpuType": "A100"
    },
    "kernelspec": {
      "name": "python3",
      "display_name": "Python 3"
    },
    "language_info": {
      "name": "python"
    },
    "accelerator": "GPU"
  },
  "cells": [
    {
      "cell_type": "code",
      "source": [
        "!rm -rf /content/sample_data"
      ],
      "metadata": {
        "id": "Bd3I3B8o2i54"
      },
      "execution_count": 1,
      "outputs": []
    },
    {
      "cell_type": "code",
      "source": [
        "!wget https://huggingface.co/camenduru/gaussian-splatting/resolve/main/tandt_db.zip\n",
        "!unzip tandt_db.zip\n",
        "!rm -rf /content/tandt\n",
        "!rm -rf /content/tandt_db.zip\n",
        "!rm -rf /content/db/drjohnson"
      ],
      "metadata": {
        "id": "Jp4ZY34U3NLV"
      },
      "execution_count": null,
      "outputs": []
    },
    {
      "cell_type": "code",
      "source": [
        "import shutil\n",
        "import os"
      ],
      "metadata": {
        "id": "lwWCxdrG2nqN"
      },
      "execution_count": 2,
      "outputs": []
    },
    {
      "cell_type": "markdown",
      "source": [
        "#Load the model\n",
        "\n",
        "---\n",
        "\n"
      ],
      "metadata": {
        "id": "pG7OdFUf1clb"
      }
    },
    {
      "cell_type": "code",
      "source": [
        "%cd /content\n",
        "!git clone --recursive https://github.com/Isaaclabe/Hackaton-Real-Estate.git"
      ],
      "metadata": {
        "colab": {
          "base_uri": "https://localhost:8080/"
        },
        "id": "vR-9JyUf13I9",
        "outputId": "7c5b93f2-4255-4fa5-b3c2-a10596586798"
      },
      "execution_count": 3,
      "outputs": [
        {
          "output_type": "stream",
          "name": "stdout",
          "text": [
            "/content\n",
            "Cloning into 'Hackaton-Real-Estate'...\n",
            "remote: Enumerating objects: 1634, done.\u001b[K\n",
            "remote: Counting objects: 100% (1634/1634), done.\u001b[K\n",
            "remote: Compressing objects: 100% (709/709), done.\u001b[K\n",
            "remote: Total 1634 (delta 931), reused 1546 (delta 911), pack-reused 0 (from 0)\u001b[K\n",
            "Receiving objects: 100% (1634/1634), 23.35 MiB | 12.42 MiB/s, done.\n",
            "Resolving deltas: 100% (931/931), done.\n"
          ]
        }
      ]
    },
    {
      "cell_type": "code",
      "source": [
        "!mkdir /content/Hackaton-Real-Estate/data"
      ],
      "metadata": {
        "id": "wXQiheldTzsc"
      },
      "execution_count": 4,
      "outputs": []
    },
    {
      "cell_type": "code",
      "source": [
        "!wget https://demuc.de/colmap/vocab_tree_flickr100K_words32K.bin"
      ],
      "metadata": {
        "colab": {
          "base_uri": "https://localhost:8080/"
        },
        "id": "glRRdtO42RJR",
        "outputId": "3bbbf7d1-e90d-45ff-f483-67a253306106"
      },
      "execution_count": 5,
      "outputs": [
        {
          "output_type": "stream",
          "name": "stdout",
          "text": [
            "--2025-05-21 20:11:59--  https://demuc.de/colmap/vocab_tree_flickr100K_words32K.bin\n",
            "Resolving demuc.de (demuc.de)... 78.46.140.213, 2a01:4f8:d0a:528e::2\n",
            "Connecting to demuc.de (demuc.de)|78.46.140.213|:443... connected.\n",
            "HTTP request sent, awaiting response... 200 OK\n",
            "Length: 15229678 (15M) [application/octet-stream]\n",
            "Saving to: ‘vocab_tree_flickr100K_words32K.bin’\n",
            "\n",
            "vocab_tree_flickr10 100%[===================>]  14.52M  8.06MB/s    in 1.8s    \n",
            "\n",
            "2025-05-21 20:12:02 (8.06 MB/s) - ‘vocab_tree_flickr100K_words32K.bin’ saved [15229678/15229678]\n",
            "\n"
          ]
        }
      ]
    },
    {
      "cell_type": "markdown",
      "source": [
        "# Config libraries\n",
        "\n",
        "---\n",
        "\n"
      ],
      "metadata": {
        "id": "k6IXN-OH1HSr"
      }
    },
    {
      "cell_type": "markdown",
      "source": [
        "Setup FFmeg"
      ],
      "metadata": {
        "id": "sbsnGZN9Xfeb"
      }
    },
    {
      "cell_type": "code",
      "source": [
        "!apt-get update -qq\n",
        "!apt-get install -y ffmpeg"
      ],
      "metadata": {
        "id": "LKmUG_ZUXfJG"
      },
      "execution_count": null,
      "outputs": []
    },
    {
      "cell_type": "markdown",
      "source": [
        "Setup the Speedy-GS"
      ],
      "metadata": {
        "id": "zc4wpEhk21Iq"
      }
    },
    {
      "cell_type": "code",
      "source": [
        "!pip install -q plyfile"
      ],
      "metadata": {
        "id": "ajjyEs2v2r7h"
      },
      "execution_count": 7,
      "outputs": []
    },
    {
      "cell_type": "code",
      "source": [
        "%cd /content/Hackaton-Real-Estate\n",
        "!pip install -q /content/Hackaton-Real-Estate/submodules/diff-gaussian-rasterization"
      ],
      "metadata": {
        "colab": {
          "base_uri": "https://localhost:8080/"
        },
        "id": "Fs73KEUj20iQ",
        "outputId": "83409bed-fe5b-41cf-cdd0-5e993f0a13de"
      },
      "execution_count": 8,
      "outputs": [
        {
          "output_type": "stream",
          "name": "stdout",
          "text": [
            "/content/Hackaton-Real-Estate\n",
            "  Preparing metadata (setup.py) ... \u001b[?25l\u001b[?25hdone\n",
            "  Building wheel for diff_gaussian_rasterization (setup.py) ... \u001b[?25l\u001b[?25hdone\n"
          ]
        }
      ]
    },
    {
      "cell_type": "code",
      "source": [
        "%cd /content/Hackaton-Real-Estate/submodules/simple-knn\n",
        "!python setup.py build_ext"
      ],
      "metadata": {
        "id": "fSBdwmg13BBN"
      },
      "execution_count": null,
      "outputs": []
    },
    {
      "cell_type": "code",
      "source": [
        "os.makedirs(\"/content/Hackaton-Real-Estate/submodules/simple-knn\", exist_ok=True)\n",
        "source_path_3 = \"/content/Hackaton-Real-Estate/submodules/simple-knn/build/lib.linux-x86_64-cpython-311/simple_knn/_C.cpython-311-x86_64-linux-gnu.so\"\n",
        "destination_folder_2 = \"/content/Hackaton-Real-Estate/submodules/simple-knn/simple_knn\"\n",
        "shutil.move(source_path_3, destination_folder_2)"
      ],
      "metadata": {
        "colab": {
          "base_uri": "https://localhost:8080/",
          "height": 35
        },
        "id": "ee3lrnZJ3Dby",
        "outputId": "b274fa6e-49d2-4d8b-9fe5-c6046f338665"
      },
      "execution_count": 10,
      "outputs": [
        {
          "output_type": "execute_result",
          "data": {
            "text/plain": [
              "'/content/Hackaton-Real-Estate/submodules/simple-knn/simple_knn/_C.cpython-311-x86_64-linux-gnu.so'"
            ],
            "application/vnd.google.colaboratory.intrinsic+json": {
              "type": "string"
            }
          },
          "metadata": {},
          "execution_count": 10
        }
      ]
    },
    {
      "cell_type": "code",
      "source": [
        "%cd /content/Hackaton-Real-Estate"
      ],
      "metadata": {
        "colab": {
          "base_uri": "https://localhost:8080/"
        },
        "id": "MlRHJUU_3GvR",
        "outputId": "f916b416-0f24-4d70-e4dd-561faf44850e"
      },
      "execution_count": 11,
      "outputs": [
        {
          "output_type": "stream",
          "name": "stdout",
          "text": [
            "/content/Hackaton-Real-Estate\n"
          ]
        }
      ]
    },
    {
      "cell_type": "code",
      "source": [
        "!mv /content/Hackaton-Real-Estate/submodules/simple-knn/simple_knn /content/Hackaton-Real-Estate"
      ],
      "metadata": {
        "id": "1ppz8IcK3Gso"
      },
      "execution_count": 12,
      "outputs": []
    },
    {
      "cell_type": "markdown",
      "source": [
        "Setup Colmap"
      ],
      "metadata": {
        "id": "63myOsg325Nu"
      }
    },
    {
      "cell_type": "code",
      "execution_count": 13,
      "metadata": {
        "id": "TZOa4zUX1CYV"
      },
      "outputs": [],
      "source": [
        "# Install Miniconda\n",
        "!wget -q https://repo.anaconda.com/miniconda/Miniconda3-latest-Linux-x86_64.sh > /dev/null 2>&1\n",
        "!bash Miniconda3-latest-Linux-x86_64.sh -b -p /content/miniconda > /dev/null 2>&1\n",
        "\n",
        "# Initialize conda for shell usage\n",
        "!ln -s /content/miniconda/etc/profile.d/conda.sh /etc/profile.d/conda.sh > /dev/null 2>&1\n",
        "!echo \". /content/miniconda/etc/profile.d/conda.sh\" >> ~/.bashrc > /dev/null 2>&1\n",
        "\n",
        "# Create a colmap environment\n",
        "!/content/miniconda/bin/conda create -y -n colmap_env -c conda-forge colmap cudatoolkit > /dev/null 2>&1"
      ]
    },
    {
      "cell_type": "code",
      "source": [
        "# Make it executable\n",
        "!chmod +x /content/Hackaton-Real-Estate/run_in_conda_env.sh"
      ],
      "metadata": {
        "id": "3nD9bAbyL2nv"
      },
      "execution_count": 14,
      "outputs": []
    },
    {
      "cell_type": "code",
      "source": [
        "# Install xvfb\n",
        "!apt-get install -y xvfb"
      ],
      "metadata": {
        "id": "39QdGjnX2O6R"
      },
      "execution_count": null,
      "outputs": []
    },
    {
      "cell_type": "markdown",
      "source": [
        "# FFmeg\n",
        "\n",
        "---\n",
        "\n"
      ],
      "metadata": {
        "id": "0RpqTuXZXobh"
      }
    },
    {
      "cell_type": "code",
      "source": [
        "!mkdir /content/extracted_frames/"
      ],
      "metadata": {
        "id": "Bx24MvIpX6X1"
      },
      "execution_count": 16,
      "outputs": []
    },
    {
      "cell_type": "code",
      "source": [
        "!mkdir /content/extracted_frames/images"
      ],
      "metadata": {
        "id": "l01uRo3KwxDO"
      },
      "execution_count": 30,
      "outputs": []
    },
    {
      "cell_type": "code",
      "source": [
        "!ffmpeg -i /content/IMG_3089.MOV -vf fps=12 -q:v 2 -threads 0 /content/extracted_frames/images/frame_%04d.jpg"
      ],
      "metadata": {
        "id": "fLwVZSxdXqlZ"
      },
      "execution_count": null,
      "outputs": []
    },
    {
      "cell_type": "code",
      "source": [
        "!rm -rf  /content/extracted_frames/images"
      ],
      "metadata": {
        "id": "lotfW31owspE"
      },
      "execution_count": 29,
      "outputs": []
    },
    {
      "cell_type": "markdown",
      "source": [
        "# Colmap\n",
        "\n",
        "---\n",
        "\n"
      ],
      "metadata": {
        "id": "4cbrZUOt2cpD"
      }
    },
    {
      "cell_type": "code",
      "source": [
        "%cd /content/Hackaton-Real-Estate"
      ],
      "metadata": {
        "colab": {
          "base_uri": "https://localhost:8080/"
        },
        "id": "2hcQDRIiFQyN",
        "outputId": "d7694113-5b1c-458b-aecd-7f0016c2c049"
      },
      "execution_count": 20,
      "outputs": [
        {
          "output_type": "stream",
          "name": "stdout",
          "text": [
            "/content/Hackaton-Real-Estate\n"
          ]
        }
      ]
    },
    {
      "cell_type": "code",
      "source": [
        "!rm -rf /content/Hackaton-Real-Estate/data/sparse"
      ],
      "metadata": {
        "id": "niDatt-yFHMB"
      },
      "execution_count": 37,
      "outputs": []
    },
    {
      "cell_type": "code",
      "source": [
        "# Start a virtual display\n",
        "!Xvfb :1 -screen 0 1024x768x24 > /dev/null 2>&1 &\n",
        "\n",
        "# Run COLMAP\n",
        "!DISPLAY=:1 ./run_in_conda_env.sh colmap automatic_reconstructor \\\n",
        "    --workspace_path /content/Hackaton-Real-Estate/data \\\n",
        "    --image_path /content/extracted_frames/images \\\n",
        "    --data_type video \\\n",
        "    --vocab_tree_path /content/vocab_tree_flickr100K_words32K.bin \\\n",
        "    --quality medium \\\n",
        "    --camera_model PINHOLE \\\n",
        "    --single_camera 1 \\\n",
        "    --sparse 1 \\\n",
        "    --dense 0 \\\n",
        "    --use_gpu 1 \\\n",
        "    --num_threads -1 #> /dev/null 2>&1"
      ],
      "metadata": {
        "id": "d-0joa422YIt"
      },
      "execution_count": null,
      "outputs": []
    },
    {
      "cell_type": "code",
      "source": [
        "!mv /content/Hackaton-Real-Estate/data/sparse/project.ini /content/Hackaton-Real-Estate/data/sparse/0"
      ],
      "metadata": {
        "id": "IW7b6_ZCM-NO",
        "colab": {
          "base_uri": "https://localhost:8080/"
        },
        "outputId": "796056ea-d660-45a6-ee0b-5fcee836f3ce"
      },
      "execution_count": 39,
      "outputs": [
        {
          "output_type": "stream",
          "name": "stdout",
          "text": [
            "mv: cannot stat '/content/Hackaton-Real-Estate/data/sparse/project.ini': No such file or directory\n"
          ]
        }
      ]
    },
    {
      "cell_type": "code",
      "source": [
        "!rm -rf /content/Hackaton-Real-Estate/data/images\n",
        "!cp -r /content/extracted_frames/images /content/Hackaton-Real-Estate/data/"
      ],
      "metadata": {
        "id": "4uZsDylIPcbx"
      },
      "execution_count": 40,
      "outputs": []
    },
    {
      "cell_type": "code",
      "source": [
        "!rm -rf /content/Hackaton-Real-Estate/data/database.db\n",
        "!rm -rf /content/Hackaton-Real-Estate/data/database.db-shm\n",
        "!rm -rf /content/Hackaton-Real-Estate/data/database.db-wal"
      ],
      "metadata": {
        "id": "SlGwJChzNC4L"
      },
      "execution_count": 41,
      "outputs": []
    },
    {
      "cell_type": "code",
      "source": [
        "!DISPLAY=:1 ./run_in_conda_env.sh colmap model_converter \\\n",
        "    --input_path /content/Hackaton-Real-Estate/data/sparse/0 \\\n",
        "    --output_path /content/ \\\n",
        "    --output_type TXT"
      ],
      "metadata": {
        "id": "jq_p6cBczPUj"
      },
      "execution_count": null,
      "outputs": []
    },
    {
      "cell_type": "code",
      "source": [],
      "metadata": {
        "id": "Yc-bAk8QDtwr"
      },
      "execution_count": null,
      "outputs": []
    },
    {
      "cell_type": "code",
      "source": [],
      "metadata": {
        "id": "rgtwQKreDtsW"
      },
      "execution_count": null,
      "outputs": []
    },
    {
      "cell_type": "markdown",
      "source": [
        "# Speedy-GS training\n",
        "\n",
        "---\n",
        "\n"
      ],
      "metadata": {
        "id": "WBHCOq7v3Tg4"
      }
    },
    {
      "cell_type": "code",
      "source": [
        "!rm -rf /content/Hackaton-Real-Estate/result_ply"
      ],
      "metadata": {
        "id": "TWipb4avGSUX"
      },
      "execution_count": null,
      "outputs": []
    },
    {
      "cell_type": "code",
      "source": [
        "!python train.py \\\n",
        "  -s /content/Hackaton-Real-Estate/data/ \\\n",
        "  -m /content/Hackaton-Real-Estate/result_ply \\\n",
        "  --iterations 20_000 \\\n",
        "  --test_iterations 30_000 \\\n",
        "  --visualize_iterations 30_000 #> /dev/null 2>&1"
      ],
      "metadata": {
        "id": "8fObtZyY3WtX"
      },
      "execution_count": null,
      "outputs": []
    },
    {
      "cell_type": "code",
      "source": [
        "file_path = '/content/Hackaton-Real-Estate/result_ply/point_cloud/iteration_20000/point_cloud.ply'\n",
        "file_size_bytes = os.path.getsize(file_path)\n",
        "file_size_gb = file_size_bytes / 1024**3\n",
        "\n",
        "print(f\"File size: {file_size_gb:.2f} GB\")"
      ],
      "metadata": {
        "id": "gYD9oOKg6rvw"
      },
      "execution_count": null,
      "outputs": []
    },
    {
      "cell_type": "markdown",
      "source": [
        "# Viewer"
      ],
      "metadata": {
        "id": "TbLapKJPISYQ"
      }
    },
    {
      "cell_type": "code",
      "source": [
        "!git clone https://github.com/camenduru/splat\n",
        "!wget https://github.com/cloudflare/cloudflared/releases/latest/download/cloudflared-linux-amd64.deb -O /content/cloudflared-linux-amd64.deb\n",
        "!dpkg -i cloudflared-linux-amd64.deb\n"
      ],
      "metadata": {
        "id": "IS1qO8oUIXpt"
      },
      "execution_count": null,
      "outputs": []
    },
    {
      "cell_type": "code",
      "source": [
        "import atexit, requests, subprocess, time, re, os\n",
        "from random import randint\n",
        "from threading import Timer\n",
        "from queue import Queue\n",
        "def cloudflared(port, metrics_port, output_queue):\n",
        "    atexit.register(lambda p: p.terminate(), subprocess.Popen(['cloudflared', 'tunnel', '--url', f'http://127.0.0.1:{port}', '--metrics', f'127.0.0.1:{metrics_port}'], stdout=subprocess.DEVNULL, stderr=subprocess.STDOUT))\n",
        "    attempts, tunnel_url = 0, None\n",
        "    while attempts < 10 and not tunnel_url:\n",
        "        attempts += 1\n",
        "        time.sleep(3)\n",
        "        try:\n",
        "            tunnel_url = re.search(\"(?P<url>https?:\\/\\/[^\\s]+.trycloudflare.com)\", requests.get(f'http://127.0.0.1:{metrics_port}/metrics').text).group(\"url\")\n",
        "        except:\n",
        "            pass\n",
        "    if not tunnel_url:\n",
        "        raise Exception(\"Can't connect to Cloudflare Edge\")\n",
        "    output_queue.put(tunnel_url)\n",
        "output_queue, metrics_port = Queue(), randint(8100, 9000)\n",
        "thread = Timer(2, cloudflared, args=(7860, metrics_port, output_queue))\n",
        "thread.start()\n",
        "thread.join()\n",
        "tunnel_url = output_queue.get()\n",
        "os.environ['webui_url'] = tunnel_url\n",
        "print(tunnel_url)"
      ],
      "metadata": {
        "id": "XhM0bX2kHyqu"
      },
      "execution_count": null,
      "outputs": []
    },
    {
      "cell_type": "code",
      "source": [
        "%cd /content/Hackaton-Real-Estate/splat\n",
        "!python -m http.server 7860"
      ],
      "metadata": {
        "id": "eMLfAVJgIbYp"
      },
      "execution_count": null,
      "outputs": []
    }
  ]
}